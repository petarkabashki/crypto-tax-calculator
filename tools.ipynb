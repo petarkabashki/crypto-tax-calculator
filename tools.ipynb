{
 "cells": [
  {
   "cell_type": "code",
   "execution_count": 2,
   "metadata": {},
   "outputs": [],
   "source": [
    "import ccxt\n",
    "import json"
   ]
  },
  {
   "cell_type": "code",
   "execution_count": 19,
   "metadata": {},
   "outputs": [],
   "source": [
    "xconf = None\n",
    "with open ('xchconf.json', \"r\") as f:\n",
    "    xconf = json.loads(f.read())['active']"
   ]
  },
  {
   "cell_type": "code",
   "execution_count": 15,
   "metadata": {},
   "outputs": [
    {
     "data": {
      "text/plain": [
       "dict_keys(['binance', 'kucoin', 'kucoin-panno', 'phemex', 'bitget'])"
      ]
     },
     "execution_count": 15,
     "metadata": {},
     "output_type": "execute_result"
    }
   ],
   "source": [
    "# xconf['active'].keys()"
   ]
  },
  {
   "cell_type": "code",
   "execution_count": 21,
   "metadata": {},
   "outputs": [],
   "source": [
    "exchanges = { x: getattr(ccxt, xconf[x]['exchange'])({\n",
    "        'apiKey': xconf[x]['key'], \n",
    "        'secret': xconf[x]['secret'],\n",
    "        'password': xconf[x]['pass']\n",
    "    }) for x in xconf.keys()}"
   ]
  },
  {
   "cell_type": "code",
   "execution_count": 22,
   "metadata": {},
   "outputs": [],
   "source": [
    "exchange = exchanges['binance']\n"
   ]
  },
  {
   "cell_type": "code",
   "execution_count": 26,
   "metadata": {},
   "outputs": [
    {
     "ename": "ArgumentsRequired",
     "evalue": "binance fetchOrders() requires a symbol argument",
     "output_type": "error",
     "traceback": [
      "\u001b[0;31m---------------------------------------------------------------------------\u001b[0m",
      "\u001b[0;31mArgumentsRequired\u001b[0m                         Traceback (most recent call last)",
      "Cell \u001b[0;32mIn[26], line 1\u001b[0m\n\u001b[0;32m----> 1\u001b[0m \u001b[43mexchange\u001b[49m\u001b[38;5;241;43m.\u001b[39;49m\u001b[43mfetchClosedOrders\u001b[49m\u001b[43m(\u001b[49m\u001b[43msymbol\u001b[49m\u001b[43m \u001b[49m\u001b[38;5;241;43m=\u001b[39;49m\u001b[43m \u001b[49m\u001b[38;5;28;43;01mNone\u001b[39;49;00m\u001b[43m,\u001b[49m\u001b[43m \u001b[49m\u001b[43msince\u001b[49m\u001b[43m \u001b[49m\u001b[38;5;241;43m=\u001b[39;49m\u001b[43m \u001b[49m\u001b[38;5;28;43;01mNone\u001b[39;49;00m\u001b[43m,\u001b[49m\u001b[43m \u001b[49m\u001b[43mlimit\u001b[49m\u001b[43m \u001b[49m\u001b[38;5;241;43m=\u001b[39;49m\u001b[43m \u001b[49m\u001b[38;5;28;43;01mNone\u001b[39;49;00m\u001b[43m,\u001b[49m\u001b[43m \u001b[49m\u001b[43mparams\u001b[49m\u001b[43m \u001b[49m\u001b[38;5;241;43m=\u001b[39;49m\u001b[43m \u001b[49m\u001b[43m{\u001b[49m\u001b[43m}\u001b[49m\u001b[43m)\u001b[49m\n\u001b[1;32m      2\u001b[0m \u001b[38;5;66;03m# symbol, since, limit, params\u001b[39;00m\n",
      "File \u001b[0;32m~/miniconda3/envs/py310/lib/python3.10/site-packages/ccxt/binance.py:4692\u001b[0m, in \u001b[0;36mbinance.fetch_closed_orders\u001b[0;34m(self, symbol, since, limit, params)\u001b[0m\n\u001b[1;32m   4677\u001b[0m \u001b[38;5;28;01mdef\u001b[39;00m \u001b[38;5;21mfetch_closed_orders\u001b[39m(\u001b[38;5;28mself\u001b[39m, symbol: Str \u001b[38;5;241m=\u001b[39m \u001b[38;5;28;01mNone\u001b[39;00m, since: Int \u001b[38;5;241m=\u001b[39m \u001b[38;5;28;01mNone\u001b[39;00m, limit: Int \u001b[38;5;241m=\u001b[39m \u001b[38;5;28;01mNone\u001b[39;00m, params\u001b[38;5;241m=\u001b[39m{}) \u001b[38;5;241m-\u001b[39m\u001b[38;5;241m>\u001b[39m List[Order]:\n\u001b[1;32m   4678\u001b[0m \u001b[38;5;250m    \u001b[39m\u001b[38;5;124;03m\"\"\"\u001b[39;00m\n\u001b[1;32m   4679\u001b[0m \u001b[38;5;124;03m    fetches information on multiple closed orders made by the user\u001b[39;00m\n\u001b[1;32m   4680\u001b[0m \u001b[38;5;124;03m    :see: https://binance-docs.github.io/apidocs/spot/en/#all-orders-user_data\u001b[39;00m\n\u001b[0;32m   (...)\u001b[0m\n\u001b[1;32m   4690\u001b[0m \u001b[38;5;124;03m    :returns Order[]: a list of `order structures <https://docs.ccxt.com/#/?id=order-structure>`\u001b[39;00m\n\u001b[1;32m   4691\u001b[0m \u001b[38;5;124;03m    \"\"\"\u001b[39;00m\n\u001b[0;32m-> 4692\u001b[0m     orders \u001b[38;5;241m=\u001b[39m \u001b[38;5;28;43mself\u001b[39;49m\u001b[38;5;241;43m.\u001b[39;49m\u001b[43mfetch_orders\u001b[49m\u001b[43m(\u001b[49m\u001b[43msymbol\u001b[49m\u001b[43m,\u001b[49m\u001b[43m \u001b[49m\u001b[43msince\u001b[49m\u001b[43m,\u001b[49m\u001b[43m \u001b[49m\u001b[43mlimit\u001b[49m\u001b[43m,\u001b[49m\u001b[43m \u001b[49m\u001b[43mparams\u001b[49m\u001b[43m)\u001b[49m\n\u001b[1;32m   4693\u001b[0m     \u001b[38;5;28;01mreturn\u001b[39;00m \u001b[38;5;28mself\u001b[39m\u001b[38;5;241m.\u001b[39mfilter_by(orders, \u001b[38;5;124m'\u001b[39m\u001b[38;5;124mstatus\u001b[39m\u001b[38;5;124m'\u001b[39m, \u001b[38;5;124m'\u001b[39m\u001b[38;5;124mclosed\u001b[39m\u001b[38;5;124m'\u001b[39m)\n",
      "File \u001b[0;32m~/miniconda3/envs/py310/lib/python3.10/site-packages/ccxt/binance.py:4503\u001b[0m, in \u001b[0;36mbinance.fetch_orders\u001b[0;34m(self, symbol, since, limit, params)\u001b[0m\n\u001b[1;32m   4486\u001b[0m \u001b[38;5;250m\u001b[39m\u001b[38;5;124;03m\"\"\"\u001b[39;00m\n\u001b[1;32m   4487\u001b[0m \u001b[38;5;124;03mfetches information on multiple orders made by the user\u001b[39;00m\n\u001b[1;32m   4488\u001b[0m \u001b[38;5;124;03m:see: https://binance-docs.github.io/apidocs/spot/en/#all-orders-user_data\u001b[39;00m\n\u001b[0;32m   (...)\u001b[0m\n\u001b[1;32m   4500\u001b[0m \u001b[38;5;124;03m:returns Order[]: a list of `order structures <https://docs.ccxt.com/#/?id=order-structure>`\u001b[39;00m\n\u001b[1;32m   4501\u001b[0m \u001b[38;5;124;03m\"\"\"\u001b[39;00m\n\u001b[1;32m   4502\u001b[0m \u001b[38;5;28;01mif\u001b[39;00m symbol \u001b[38;5;129;01mis\u001b[39;00m \u001b[38;5;28;01mNone\u001b[39;00m:\n\u001b[0;32m-> 4503\u001b[0m     \u001b[38;5;28;01mraise\u001b[39;00m ArgumentsRequired(\u001b[38;5;28mself\u001b[39m\u001b[38;5;241m.\u001b[39mid \u001b[38;5;241m+\u001b[39m \u001b[38;5;124m'\u001b[39m\u001b[38;5;124m fetchOrders() requires a symbol argument\u001b[39m\u001b[38;5;124m'\u001b[39m)\n\u001b[1;32m   4504\u001b[0m \u001b[38;5;28mself\u001b[39m\u001b[38;5;241m.\u001b[39mload_markets()\n\u001b[1;32m   4505\u001b[0m paginate \u001b[38;5;241m=\u001b[39m \u001b[38;5;28;01mFalse\u001b[39;00m\n",
      "\u001b[0;31mArgumentsRequired\u001b[0m: binance fetchOrders() requires a symbol argument"
     ]
    }
   ],
   "source": [
    "exchange.fetchClosedOrders(symbol = None, since = None, limit = None, params = {})\n",
    "# symbol, since, limit, params"
   ]
  }
 ],
 "metadata": {
  "kernelspec": {
   "display_name": "py310",
   "language": "python",
   "name": "python3"
  },
  "language_info": {
   "codemirror_mode": {
    "name": "ipython",
    "version": 3
   },
   "file_extension": ".py",
   "mimetype": "text/x-python",
   "name": "python",
   "nbconvert_exporter": "python",
   "pygments_lexer": "ipython3",
   "version": "3.10.13"
  }
 },
 "nbformat": 4,
 "nbformat_minor": 2
}
