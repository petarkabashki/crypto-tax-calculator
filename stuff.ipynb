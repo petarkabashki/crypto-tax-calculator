{
 "cells": [
  {
   "cell_type": "code",
   "execution_count": 1,
   "metadata": {},
   "outputs": [],
   "source": [
    "import IPython\n",
    "import pandas as pd\n",
    "import numpy as np\n",
    "\n",
    "from datetime import datetime, date\n",
    "from math import *\n",
    "import json\n",
    "%matplotlib inline\n",
    "from decimal import *\n",
    "getcontext().prec = 6\n",
    "import re\n",
    "from decimal import Decimal\n",
    "\n",
    "from os import listdir\n",
    "from os.path import isfile, join"
   ]
  },
  {
   "cell_type": "code",
   "execution_count": 10,
   "metadata": {},
   "outputs": [],
   "source": [
    "def load_candles(filename):\n",
    "  df = pd.read_json(filename)\n",
    "  df.columns = ['timestamp', 'open', 'high', 'low', 'close', 'volume']\n",
    "  # df.columns = ['timestamp', 'open']\n",
    "  df['timestamp'] = pd.to_datetime(df['timestamp'], unit='ms', utc=False)\n",
    "  # df = df[(df['date']>=date(2020,4,6)) & (df['date']<=date(2021,4,5))] \n",
    "  df['timestamp'] = df.timestamp.astype('datetime64[m]')\n",
    "  df.set_index(pd.DatetimeIndex(df[\"timestamp\"]), inplace=True, drop=True)\n",
    "  # df = df['2020-04-06' : '2021-04-05']\n",
    "  df.drop(['timestamp', 'high', 'low', 'close', 'volume'], axis=1, inplace=True)\n",
    "  # df['ohl3'] = (df['open'] + df['high'] + df['low']) / 3\n",
    "  return df\n",
    "\n",
    "# datapath = './data'\n",
    "# kline_pairs = [f.split('.')[0].split('-')[0] for f in listdir(datapath) if isfile(join(datapath, f))]\n",
    "# klines = {pair: load_candles(f'./data/{pair}-1m.json') for pair in kline_pairs}\n",
    "# klines\n"
   ]
  },
  {
   "cell_type": "code",
   "execution_count": 11,
   "metadata": {},
   "outputs": [
    {
     "data": {
      "text/plain": [
       "['BTC_USDT', 'GBP_USDT', 'ETH_USDT']"
      ]
     },
     "execution_count": 11,
     "metadata": {},
     "output_type": "execute_result"
    }
   ],
   "source": [
    "\n",
    "datapath = './freq-user-data/data/binance/'\n",
    "kline_pairs = [f.split('.')[0].split('-')[0] for f in listdir(datapath) if isfile(join(datapath, f))]\n",
    "# klines = {pair: load_candles(f'./data/{pair}-1m.json') for pair in kline_pairs}\n",
    "kline_pairs\n"
   ]
  },
  {
   "cell_type": "code",
   "execution_count": 12,
   "metadata": {},
   "outputs": [],
   "source": [
    "# kline_pairs\n",
    "df_btc_usdt = load_candles('./freq-user-data/data/binance/BTC_USDT-1m.json');"
   ]
  },
  {
   "cell_type": "code",
   "execution_count": 14,
   "metadata": {},
   "outputs": [
    {
     "data": {
      "text/html": [
       "<div>\n",
       "<style scoped>\n",
       "    .dataframe tbody tr th:only-of-type {\n",
       "        vertical-align: middle;\n",
       "    }\n",
       "\n",
       "    .dataframe tbody tr th {\n",
       "        vertical-align: top;\n",
       "    }\n",
       "\n",
       "    .dataframe thead th {\n",
       "        text-align: right;\n",
       "    }\n",
       "</style>\n",
       "<table border=\"1\" class=\"dataframe\">\n",
       "  <thead>\n",
       "    <tr style=\"text-align: right;\">\n",
       "      <th></th>\n",
       "      <th>open</th>\n",
       "    </tr>\n",
       "    <tr>\n",
       "      <th>timestamp</th>\n",
       "      <th></th>\n",
       "    </tr>\n",
       "  </thead>\n",
       "  <tbody>\n",
       "    <tr>\n",
       "      <th>2023-02-01 07:48:00</th>\n",
       "      <td>23076.50</td>\n",
       "    </tr>\n",
       "    <tr>\n",
       "      <th>2023-02-01 07:49:00</th>\n",
       "      <td>23066.93</td>\n",
       "    </tr>\n",
       "    <tr>\n",
       "      <th>2023-02-01 07:50:00</th>\n",
       "      <td>23073.97</td>\n",
       "    </tr>\n",
       "    <tr>\n",
       "      <th>2023-02-01 07:51:00</th>\n",
       "      <td>23068.94</td>\n",
       "    </tr>\n",
       "    <tr>\n",
       "      <th>2023-02-01 07:52:00</th>\n",
       "      <td>23072.69</td>\n",
       "    </tr>\n",
       "  </tbody>\n",
       "</table>\n",
       "</div>"
      ],
      "text/plain": [
       "                         open\n",
       "timestamp                    \n",
       "2023-02-01 07:48:00  23076.50\n",
       "2023-02-01 07:49:00  23066.93\n",
       "2023-02-01 07:50:00  23073.97\n",
       "2023-02-01 07:51:00  23068.94\n",
       "2023-02-01 07:52:00  23072.69"
      ]
     },
     "execution_count": 14,
     "metadata": {},
     "output_type": "execute_result"
    }
   ],
   "source": [
    "df_btc_usdt.tail()"
   ]
  },
  {
   "cell_type": "code",
   "execution_count": null,
   "metadata": {},
   "outputs": [],
   "source": []
  }
 ],
 "metadata": {
  "kernelspec": {
   "display_name": "py38",
   "language": "python",
   "name": "python3"
  },
  "language_info": {
   "codemirror_mode": {
    "name": "ipython",
    "version": 3
   },
   "file_extension": ".py",
   "mimetype": "text/x-python",
   "name": "python",
   "nbconvert_exporter": "python",
   "pygments_lexer": "ipython3",
   "version": "3.8.13"
  },
  "orig_nbformat": 4,
  "vscode": {
   "interpreter": {
    "hash": "3f75f034201025bd3a6113bbff03d78586d61354d3020b5ebc29f3275222b427"
   }
  }
 },
 "nbformat": 4,
 "nbformat_minor": 2
}
