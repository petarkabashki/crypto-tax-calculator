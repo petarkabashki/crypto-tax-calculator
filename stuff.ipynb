{
 "cells": [
  {
   "cell_type": "code",
   "execution_count": 2,
   "metadata": {},
   "outputs": [],
   "source": [
    "import IPython\n",
    "import pandas as pd\n",
    "import numpy as np\n",
    "\n",
    "from datetime import datetime, date\n",
    "from math import *\n",
    "import json\n",
    "%matplotlib inline\n",
    "from decimal import *\n",
    "getcontext().prec = 6\n",
    "import re\n",
    "from decimal import Decimal\n",
    "\n",
    "from os import listdir\n",
    "from os.path import isfile, join"
   ]
  },
  {
   "cell_type": "code",
   "execution_count": null,
   "metadata": {},
   "outputs": [],
   "source": [
    "def load_candles(filename):\n",
    "  df = pd.read_json(filename)\n",
    "  df.columns = ['timestamp', 'open', 'high', 'low', 'close', 'volume']\n",
    "  # df.columns = ['timestamp', 'open']\n",
    "  df['timestamp'] = pd.to_datetime(df['timestamp'], unit='ms', utc=False)\n",
    "  # df = df[(df['date']>=date(2020,4,6)) & (df['date']<=date(2021,4,5))] \n",
    "  # df['timestamp'] = df.timestamp.astype('datetime64[m]')\n",
    "  df.set_index(pd.DatetimeIndex(df[\"timestamp\"]), inplace=True, drop=True)\n",
    "  # df = df['2020-04-06' : '2021-04-05']\n",
    "  df.drop(['timestamp', 'high', 'low', 'close', 'volume'], axis=1, inplace=True)\n",
    "  # df['ohl3'] = (df['open'] + df['high'] + df['low']) / 3\n",
    "  return df\n",
    "\n",
    "# datapath = './data'\n",
    "# kline_pairs = [f.split('.')[0].split('-')[0] for f in listdir(datapath) if isfile(join(datapath, f))]\n",
    "# klines = {pair: load_candles(f'./data/{pair}-1m.json') for pair in kline_pairs}\n",
    "# klines\n"
   ]
  },
  {
   "cell_type": "code",
   "execution_count": null,
   "metadata": {},
   "outputs": [],
   "source": [
    "p = qpairs[0]\n",
    "filename = f'./freq-user-data/data/binance/{p}-1m.json'\n",
    "df = pd.read_json(filename)\n",
    "df.columns = ['ts', 'open', 'high', 'low', 'close', 'volume']\n",
    "df"
   ]
  },
  {
   "cell_type": "code",
   "execution_count": null,
   "metadata": {},
   "outputs": [],
   "source": [
    "\n",
    "datapath = './freq-user-data/data/binance/'\n",
    "kline_pairs = [f.split('.')[0].split('-')[0] for f in listdir(datapath) if isfile(join(datapath, f))]\n",
    "# klines = {pair: load_candles(f'./data/{pair}-1m.json') for pair in kline_pairs}\n",
    "kline_pairs\n"
   ]
  },
  {
   "cell_type": "code",
   "execution_count": null,
   "metadata": {},
   "outputs": [],
   "source": [
    "qpairs = [\n",
    " 'BTC_USDT',\n",
    " 'ETH_USDT',\n",
    " 'GBP_USDT']\n",
    "timeframes = ['1m']"
   ]
  },
  {
   "cell_type": "code",
   "execution_count": null,
   "metadata": {},
   "outputs": [],
   "source": [
    "\n",
    "\n",
    "for p in qpairs:\n",
    "    for tf in timeframes:\n",
    "        print(f'Converting {p} - {tf}...')\n",
    "        pd.read_json(f'./freq-user-data/data/binance/{p}-{tf}.json'\n",
    "            ).set_axis(['dt','o','h','l','c','v'], axis=1\n",
    "            ).set_index('dt'\n",
    "            ).to_csv(f'./data-csv/{p}-{tf}.csv')\n"
   ]
  },
  {
   "cell_type": "code",
   "execution_count": null,
   "metadata": {},
   "outputs": [],
   "source": [
    "p = qpairs[0]\n",
    "filename = f'./freq-user-data/data/binance/{qpairs[0]}-1m.json'\n",
    "df = pd.read_json(filename\n",
    ").set_axis(['dt','o','h','l','c','v'], axis=1\n",
    ").set_index('dt')\n",
    "# df.columns = [\n",
    "df"
   ]
  },
  {
   "cell_type": "code",
   "execution_count": null,
   "metadata": {},
   "outputs": [],
   "source": [
    "curl -H \"X-CMC_PRO_API_KEY: 733a53cb-19a4-4070-8291-a03aa07da1ad\" -H \"Accept: application/json\" -d \"\" -G \"https://pro.coinmarketcap.com/v1/cryptocurrency/listings/latest\"\n"
   ]
  },
  {
   "cell_type": "code",
   "execution_count": null,
   "metadata": {},
   "outputs": [],
   "source": [
    "\n",
    "from requests import Request, Session\n",
    "from requests.exceptions import ConnectionError, Timeout, TooManyRedirects\n",
    "import json\n",
    "\n",
    "url = 'https://pro.coinmarketcap.com/v1/cryptocurrency/listings/latest'\n",
    "parameters = {\n",
    "  # 'start':'1',\n",
    "  # 'limit':'5000',\n",
    "  # 'convert':'USD'\n",
    "  'symbol': 'BTC,ETH,ADA'\n",
    "}\n",
    "headers = {\n",
    "  'Accepts': 'application/json',\n",
    "  'X-CMC_PRO_API_KEY': '733a53cb-19a4-4070-8291-a03aa07da1ad',\n",
    "}\n",
    "\n",
    "session = Session()\n",
    "session.headers.update(headers)\n",
    "\n",
    "try:\n",
    "  response = session.get(url, params=parameters)\n",
    "  data = json.loads(response.text)\n",
    "  print(data)\n",
    "except (ConnectionError, Timeout, TooManyRedirects) as e:\n",
    "  print(e)"
   ]
  },
  {
   "cell_type": "markdown",
   "metadata": {},
   "source": [
    "## CMC Historical data"
   ]
  },
  {
   "cell_type": "code",
   "execution_count": 4,
   "metadata": {},
   "outputs": [],
   "source": [
    "import configparser\n",
    "import json\n",
    "import pytz\n",
    "from datetime import datetime\n",
    "from requests import Request, Session\n",
    "from dateutil import parser\n",
    "\n",
    "symbols = ['BTC,GBP,ETH,XRP,ALGO,ADA,LINK,BNB,DOT,XLM,LTC,AVAX,AAVE,EGLD,ATOM,DOGE,GRT,ENJ,CAKE,TRX,BUSD,LUNA,USDC,USDT,SOL,MATIC,FTM,FIL,ICP,CRV,REN,RUNE,KSM,ZIL,THETA,LRC,MANA,SHIB,ILV,GALA,AXS,SAND,RNDR,CHZ,APT,ARB,OP,RAY,INJ,BEAM,NEAR,ALU,KAS,TIA,PYR,SNX,MYRIA,IMX,COQ,QNT,TET,AMP']\n",
    "convert = ['USDT' ]\n",
    "\n",
    "# def get_info():\n",
    "    # Read the API key from the coinmarket.ini file\n",
    "    # config = configparser.ConfigParser()\n",
    "    # config.read('coinmarket.ini')\n",
    "    # api_key = config['DEFAULT']['API_KEY']\n",
    "\n",
    "    # Set up the request parameters and headers\n",
    "# url = 'https://pro-api.coinmarketcap.com/v2/cryptocurrency/ohlcv/historical'\n",
    "\n",
    "url = 'https://pro-api.coinmarketcap.com/v1/cryptocurrency/quotes/latest'\n",
    "parameters = { \n",
    "    # 'slug': 'bitcoin', \n",
    "    'symbol': symbols,\n",
    "    'convert': convert,\n",
    "    # 'time_start': '2020-01-01'\n",
    "                }\n",
    "headers = {\n",
    "    'Accepts': 'application/json',\n",
    "    'X-CMC_PRO_API_KEY': '733a53cb-19a4-4070-8291-a03aa07da1ad'\n",
    "}\n",
    "\n",
    "# Send the request and retrieve the response\n",
    "session = Session()\n",
    "session.headers.update(headers)\n",
    "response = session.get(url, params=parameters)\n",
    "data = json.loads(response.text)\n",
    "\n",
    "pd.DataFrame.from_records([{'asset':c, **data['data'][c]['quote']['USDT']} for  c in data['data'].keys()]).to_csv('cmc-quotes.csv')"
   ]
  },
  {
   "cell_type": "code",
   "execution_count": 83,
   "metadata": {},
   "outputs": [],
   "source": [
    "pd.DataFrame.from_records([{'asset':c, **data['data'][c]['quote']['USDT']} for  c in data['data'].keys()]).to_csv('cmc-quotes.csv')\n",
    "    "
   ]
  },
  {
   "cell_type": "markdown",
   "metadata": {},
   "source": [
    "## Convert JSON candlesticks to csv"
   ]
  },
  {
   "cell_type": "code",
   "execution_count": null,
   "metadata": {},
   "outputs": [],
   "source": [
    "from glob import glob\n",
    "import pandas as pd\n",
    "import os\n",
    "    \n",
    "freqdatadir = '/media/grenada/Data/Accounting/pk-crypto-tax-calculator/freq-user-data/data'\n",
    "csvdatadir = '/media/grenada/Data/Accounting/pk-crypto-tax-calculator/data-csv'\n",
    "xcgs = [x.split('/')[-1] for x in glob(f\"{freqdatadir}/*\", recursive = False)]\n",
    "for xcg in xcgs:\n",
    "    djs = f'{freqdatadir}/{xcg}'\n",
    "    dcsv = f'{csvdatadir}/{xcg}'\n",
    "    if not os.path.exists(dcsv):\n",
    "        os.makedirs(dcsv)\n",
    "    print('Processing folder: ', djs)\n",
    "    \n",
    "    for js in [x.split('/')[-1].split('.')[0] for x in glob(f\"{djs}/*\")]:\n",
    "        # fcsv = '{csvdatadir}/`'\n",
    "        print(f'Converting {xcg} - {js} ...')\n",
    "        fcsv = f'{dcsv}/{js}.csv'\n",
    "        if not os.path.exists(fcsv):\n",
    "            pd.read_json(f'{freqdatadir}/{xcg}/{js}.json'\n",
    "                ).set_axis(['dt','o','h','l','c','v'], axis=1\n",
    "                ).set_index('dt'\n",
    "                ).to_csv(fcsv)\n",
    "        # print(js.split('.')[0])\n",
    "    # print(jsfiles)\n"
   ]
  },
  {
   "cell_type": "code",
   "execution_count": 9,
   "metadata": {},
   "outputs": [
    {
     "data": {
      "text/plain": [
       "7.5"
      ]
     },
     "execution_count": 9,
     "metadata": {},
     "output_type": "execute_result"
    }
   ],
   "source": [
    "import statistics as sta\n",
    "\n",
    "sta.variance([i+1 for i in range(9)])"
   ]
  }
 ],
 "metadata": {
  "kernelspec": {
   "display_name": "py38",
   "language": "python",
   "name": "python3"
  },
  "language_info": {
   "codemirror_mode": {
    "name": "ipython",
    "version": 3
   },
   "file_extension": ".py",
   "mimetype": "text/x-python",
   "name": "python",
   "nbconvert_exporter": "python",
   "pygments_lexer": "ipython3",
   "version": "3.10.13"
  },
  "orig_nbformat": 4,
  "vscode": {
   "interpreter": {
    "hash": "3f75f034201025bd3a6113bbff03d78586d61354d3020b5ebc29f3275222b427"
   }
  }
 },
 "nbformat": 4,
 "nbformat_minor": 2
}
